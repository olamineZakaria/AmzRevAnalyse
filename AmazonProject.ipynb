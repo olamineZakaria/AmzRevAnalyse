{
 "cells": [
  {
   "cell_type": "code",
   "execution_count": 1,
   "metadata": {},
   "outputs": [],
   "source": [
    "# Comming Soon"
   ]
  },
  {
   "cell_type": "code",
   "execution_count": 91,
   "metadata": {},
   "outputs": [],
   "source": [
    "from bs4 import BeautifulSoup\n",
    "from selenium import webdriver\n",
    "from selenium.webdriver.chrome.options import Options\n",
    "from selenium.webdriver.chrome.service import Service\n",
    "from webdriver_manager.chrome import ChromeDriverManager\n",
    "chrome_options = Options()\n",
    "#chrome_options.add_argument(\"--headless\")\n",
    "options = Options()\n",
    "options.add_argument('--disable-gpu')\n",
    "options.add_argument('--headless')\n",
    "# chrome_driver_path = \"chromedriver.exe\" \n",
    "# def get_driver():\n",
    "#     return webdriver.Chrome(service=Service(ChromeDriverManager().install()), options=options)\n",
    "# service = Service(chrome_driver_path)\n",
    "# driver = webdriver.Chrome(service=service, options=chrome_options)\n",
    "driver = webdriver.Chrome(service=Service(ChromeDriverManager().install()), options=options)\n",
    "\n",
    "\n"
   ]
  },
  {
   "cell_type": "code",
   "execution_count": 59,
   "metadata": {},
   "outputs": [],
   "source": [
    "url = 'https://www.amazon.com/dp/B0BRKPBMVY/'\n",
    "driver.get(url)\n",
    "\n"
   ]
  },
  {
   "cell_type": "code",
   "execution_count": 39,
   "metadata": {},
   "outputs": [
    {
     "data": {
      "text/plain": [
       "[<a class=\"a-link-normal a-color-tertiary\" href=\"/amazon-fashion/b/ref=dp_bc_aui_C_1/135-6760471-8434857?ie=UTF8&amp;node=7141123011\">\n",
       "                 Clothing, Shoes &amp; Jewelry\n",
       "             </a>]"
      ]
     },
     "execution_count": 39,
     "metadata": {},
     "output_type": "execute_result"
    }
   ],
   "source": [
    "soup = BeautifulSoup(driver.page_source,\"html.parser\")\n",
    "a = soup.select(\"#wayfinding-breadcrumbs_feature_div > ul > li:nth-child(1) > span > a\")\n",
    "a"
   ]
  },
  {
   "cell_type": "code",
   "execution_count": 40,
   "metadata": {},
   "outputs": [
    {
     "ename": "AttributeError",
     "evalue": "'list' object has no attribute 'strip'",
     "output_type": "error",
     "traceback": [
      "\u001b[1;31m---------------------------------------------------------------------------\u001b[0m",
      "\u001b[1;31mAttributeError\u001b[0m                            Traceback (most recent call last)",
      "Cell \u001b[1;32mIn[40], line 4\u001b[0m\n\u001b[0;32m      2\u001b[0m     \u001b[38;5;28;01mif\u001b[39;00m aa\u001b[38;5;241m==\u001b[39m\u001b[38;5;124m'\u001b[39m\u001b[38;5;124m>\u001b[39m\u001b[38;5;124m'\u001b[39m:\n\u001b[0;32m      3\u001b[0m         \u001b[38;5;28mprint\u001b[39m(i)\n\u001b[1;32m----> 4\u001b[0m a \u001b[38;5;241m=\u001b[39m \u001b[43ma\u001b[49m\u001b[43m[\u001b[49m\u001b[38;5;241;43m114\u001b[39;49m\u001b[43m:\u001b[49m\u001b[38;5;241;43m176\u001b[39;49m\u001b[43m]\u001b[49m\u001b[38;5;241;43m.\u001b[39;49m\u001b[43mstrip\u001b[49m()\n\u001b[0;32m      5\u001b[0m \u001b[38;5;28;01mimport\u001b[39;00m \u001b[38;5;21;01mre\u001b[39;00m\n\u001b[0;32m      6\u001b[0m pattern \u001b[38;5;241m=\u001b[39m \u001b[38;5;124mr\u001b[39m\u001b[38;5;124m'\u001b[39m\u001b[38;5;124m[^a-zA-Z\u001b[39m\u001b[38;5;124m\\\u001b[39m\u001b[38;5;124ms]\u001b[39m\u001b[38;5;124m'\u001b[39m\n",
      "\u001b[1;31mAttributeError\u001b[0m: 'list' object has no attribute 'strip'"
     ]
    }
   ],
   "source": [
    "for i,aa in enumerate(a):\n",
    "    if aa=='>':\n",
    "        print(i)\n",
    "a = a[114:176].strip()\n",
    "import re\n",
    "pattern = r'[^a-zA-Z\\s]'\n",
    "a = re.sub(pattern,'',a)\n",
    "print(a)"
   ]
  },
  {
   "cell_type": "code",
   "execution_count": 41,
   "metadata": {},
   "outputs": [
    {
     "data": {
      "text/plain": [
       "''"
      ]
     },
     "execution_count": 41,
     "metadata": {},
     "output_type": "execute_result"
    }
   ],
   "source": [
    "def get_category(UrlProduct):\n",
    "    driver.get(UrlProduct)\n",
    "    soup = BeautifulSoup(driver.page_source,\"html.parser\")\n",
    "    category = soup.select(\"#wayfinding-breadcrumbs_feature_div > ul > li:nth-child(1) > span > a\")\n",
    "    category = str(category)\n",
    "    index = []\n",
    "    for i,aa in enumerate(category):\n",
    "        index.append(i)\n",
    "    category = category[index[0]+1:index[1]+1].strip()\n",
    "    pattern = r'[^a-zA-Z\\s]'\n",
    "    category = re.sub(pattern,'',category)\n",
    "    return category\n",
    "\n",
    "\n",
    "get_category(url)"
   ]
  },
  {
   "cell_type": "code",
   "execution_count": 92,
   "metadata": {},
   "outputs": [],
   "source": [
    "import re\n",
    "def get_reviews_images(UrlProduct):\n",
    "    driver.get(UrlProduct)\n",
    "    soup = BeautifulSoup(driver.page_source,'html.parser')\n",
    "    image_reviews = soup.find_all('div', class_='_Y3Itb_media-thumbnail-container_2MRZY')\n",
    "    image_reviews = str(image_reviews)\n",
    "    image_reviews = re.findall(r'src=\"(https.*?jpg)',image_reviews)\n",
    "    # Image_of_product = re.findall(r'src=\"https.*pg',str(Image_of_product))\n",
    "    return image_reviews"
   ]
  },
  {
   "cell_type": "code",
   "execution_count": 94,
   "metadata": {},
   "outputs": [
    {
     "data": {
      "text/plain": [
       "['https://m.media-amazon.com/images/I/81QRpXVsJhL._SY250_.jpg',\n",
       " 'https://m.media-amazon.com/images/I/81-AMUQA+6L._SY250_.jpg',\n",
       " 'https://m.media-amazon.com/images/I/31aCcujeH-L._SY250_.jpg',\n",
       " 'https://m.media-amazon.com/images/I/314nBPyL6-L._SY250_.jpg']"
      ]
     },
     "execution_count": 94,
     "metadata": {},
     "output_type": "execute_result"
    }
   ],
   "source": [
    "get_reviews_images(\"https://www.amazon.com/PopCrew-Gaming-Funny-Accessories-Continue/dp/B098JRVS87/\")"
   ]
  },
  {
   "cell_type": "code",
   "execution_count": 104,
   "metadata": {},
   "outputs": [],
   "source": [
    "import amaproductreviews as am\n",
    "images_reviews_url = am.get_reviews_images(\"https://www.amazon.com/Amazon-Essentials-Lightweight-Open-Front-Cardigan/dp/B07QB4P6HR/\")"
   ]
  },
  {
   "cell_type": "code",
   "execution_count": 105,
   "metadata": {},
   "outputs": [
    {
     "data": {
      "text/plain": [
       "['https://m.media-amazon.com/images/I/71nDeSB18HL._SY250_.jpg',\n",
       " 'https://m.media-amazon.com/images/I/71Je3H34iSL._SY250_.jpg',\n",
       " 'https://m.media-amazon.com/images/I/71JlGipIDLL._SY250_.jpg',\n",
       " 'https://m.media-amazon.com/images/I/71zOAeAnntL._SY250_.jpg',\n",
       " 'https://m.media-amazon.com/images/I/61JhhbDrW6L._SY250_.jpg',\n",
       " 'https://m.media-amazon.com/images/I/71nhhUmZCwL._SY250_.jpg',\n",
       " 'https://m.media-amazon.com/images/I/71neSK+gbiL._SY250_.jpg',\n",
       " 'https://m.media-amazon.com/images/I/61ihlzuOGzL._SY250_.jpg',\n",
       " 'https://m.media-amazon.com/images/I/7181FHBrVKL._SY250_.jpg',\n",
       " 'https://m.media-amazon.com/images/I/71lAXbHWD7L._SY250_.jpg',\n",
       " 'https://m.media-amazon.com/images/I/71JU6yufCoL._SY250_.jpg',\n",
       " 'https://m.media-amazon.com/images/I/71hzro2Au3L._SY250_.jpg']"
      ]
     },
     "execution_count": 105,
     "metadata": {},
     "output_type": "execute_result"
    }
   ],
   "source": [
    "images_reviews_url"
   ]
  },
  {
   "cell_type": "code",
   "execution_count": null,
   "metadata": {},
   "outputs": [],
   "source": []
  }
 ],
 "metadata": {
  "kernelspec": {
   "display_name": "Python 3",
   "language": "python",
   "name": "python3"
  },
  "language_info": {
   "codemirror_mode": {
    "name": "ipython",
    "version": 3
   },
   "file_extension": ".py",
   "mimetype": "text/x-python",
   "name": "python",
   "nbconvert_exporter": "python",
   "pygments_lexer": "ipython3",
   "version": "3.12.3"
  }
 },
 "nbformat": 4,
 "nbformat_minor": 2
}
